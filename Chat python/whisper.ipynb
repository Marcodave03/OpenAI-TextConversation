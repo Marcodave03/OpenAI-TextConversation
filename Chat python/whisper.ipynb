{
 "cells": [
  {
   "cell_type": "code",
   "execution_count": 1,
   "metadata": {},
   "outputs": [
    {
     "name": "stdout",
     "output_type": "stream",
     "text": [
      "Collecting git+https://github.com/openai/whisper\n",
      "  Cloning https://github.com/openai/whisper to c:\\users\\user\\appdata\\local\\temp\\pip-req-build-i5hxko86\n",
      "  Resolved https://github.com/openai/whisper to commit ba3f3cd54b0e5b8ce1ab3de13e32122d0d5f98ab\n",
      "  Installing build dependencies: started\n",
      "  Installing build dependencies: finished with status 'done'\n",
      "  Getting requirements to build wheel: started\n",
      "  Getting requirements to build wheel: finished with status 'done'\n",
      "  Installing backend dependencies: started\n",
      "  Installing backend dependencies: finished with status 'done'\n",
      "  Preparing metadata (pyproject.toml): started\n",
      "  Preparing metadata (pyproject.toml): finished with status 'done'\n",
      "Requirement already satisfied: numba in e:\\program\\python3.7.8\\lib\\site-packages (from openai-whisper==20231117) (0.56.4)\n",
      "Requirement already satisfied: numpy in e:\\program\\python3.7.8\\lib\\site-packages (from openai-whisper==20231117) (1.21.0)\n",
      "Requirement already satisfied: torch in e:\\program\\python3.7.8\\lib\\site-packages (from openai-whisper==20231117) (1.7.0+cpu)\n",
      "Requirement already satisfied: tqdm in e:\\program\\python3.7.8\\lib\\site-packages (from openai-whisper==20231117) (4.66.1)\n",
      "Requirement already satisfied: more-itertools in e:\\program\\python3.7.8\\lib\\site-packages (from openai-whisper==20231117) (9.1.0)\n",
      "INFO: pip is looking at multiple versions of openai-whisper to determine which version is compatible with other requirements. This could take a while.\n"
     ]
    },
    {
     "name": "stderr",
     "output_type": "stream",
     "text": [
      "WARNING: Ignoring invalid distribution -ip (e:\\program\\python3.7.8\\lib\\site-packages)\n",
      "  Running command git clone --filter=blob:none --quiet https://github.com/openai/whisper 'C:\\Users\\user\\AppData\\Local\\Temp\\pip-req-build-i5hxko86'\n",
      "ERROR: Ignored the following versions that require a different python version: 0.1.1 Requires-Python >=3.9; 0.1.2 Requires-Python >=3.8; 0.2.0 Requires-Python >=3.8; 0.3.0 Requires-Python >=3.8; 0.3.1 Requires-Python >=3.8; 0.3.2 Requires-Python >=3.8; 0.3.3 Requires-Python >=3.8; 0.4.0 Requires-Python >=3.8; 0.5.0 Requires-Python >=3.8; 0.5.1 Requires-Python >=3.8; 0.5.2 Requires-Python >=3.8\n",
      "ERROR: Could not find a version that satisfies the requirement tiktoken (from openai-whisper) (from versions: none)\n",
      "ERROR: No matching distribution found for tiktoken\n",
      "'sudo' is not recognized as an internal or external command,\n",
      "operable program or batch file.\n"
     ]
    }
   ],
   "source": [
    "!pip install git+https://github.com/openai/whisper\n",
    "!sudo apt update && sudo apt install ffmpeg"
   ]
  },
  {
   "cell_type": "code",
   "execution_count": null,
   "metadata": {},
   "outputs": [],
   "source": [
    "!whisper \"amanda.mp4\" --model medium.en"
   ]
  },
  {
   "cell_type": "code",
   "execution_count": null,
   "metadata": {},
   "outputs": [],
   "source": []
  }
 ],
 "metadata": {
  "kernelspec": {
   "display_name": "Python 3",
   "language": "python",
   "name": "python3"
  },
  "language_info": {
   "codemirror_mode": {
    "name": "ipython",
    "version": 3
   },
   "file_extension": ".py",
   "mimetype": "text/x-python",
   "name": "python",
   "nbconvert_exporter": "python",
   "pygments_lexer": "ipython3",
   "version": "3.7.8"
  }
 },
 "nbformat": 4,
 "nbformat_minor": 2
}
